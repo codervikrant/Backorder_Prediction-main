{
 "cells": [
  {
   "cell_type": "code",
   "execution_count": 1,
   "id": "63badfaf",
   "metadata": {},
   "outputs": [],
   "source": [
    "import pandas as pd\n",
    "import numpy as np\n",
    "import warnings\n",
    "import seaborn as sns\n",
    "import matplotlib.pyplot as plt\n",
    "\n",
    "warnings.filterwarnings(\"ignore\")\n",
    "pd.set_option(\"display.max_rows\", None)\n",
    "pd.set_option(\"display.max_columns\", None)"
   ]
  },
  {
   "cell_type": "code",
   "execution_count": 2,
   "id": "04c28a78",
   "metadata": {
    "scrolled": true
   },
   "outputs": [
    {
     "data": {
      "text/html": [
       "<div>\n",
       "<style scoped>\n",
       "    .dataframe tbody tr th:only-of-type {\n",
       "        vertical-align: middle;\n",
       "    }\n",
       "\n",
       "    .dataframe tbody tr th {\n",
       "        vertical-align: top;\n",
       "    }\n",
       "\n",
       "    .dataframe thead th {\n",
       "        text-align: right;\n",
       "    }\n",
       "</style>\n",
       "<table border=\"1\" class=\"dataframe\">\n",
       "  <thead>\n",
       "    <tr style=\"text-align: right;\">\n",
       "      <th></th>\n",
       "      <th>sku</th>\n",
       "      <th>national_inv</th>\n",
       "      <th>lead_time</th>\n",
       "      <th>in_transit_qty</th>\n",
       "      <th>forecast_3_month</th>\n",
       "      <th>forecast_6_month</th>\n",
       "      <th>forecast_9_month</th>\n",
       "      <th>sales_1_month</th>\n",
       "      <th>sales_3_month</th>\n",
       "      <th>sales_6_month</th>\n",
       "      <th>sales_9_month</th>\n",
       "      <th>min_bank</th>\n",
       "      <th>potential_issue</th>\n",
       "      <th>pieces_past_due</th>\n",
       "      <th>perf_6_month_avg</th>\n",
       "      <th>perf_12_month_avg</th>\n",
       "      <th>local_bo_qty</th>\n",
       "      <th>deck_risk</th>\n",
       "      <th>oe_constraint</th>\n",
       "      <th>ppap_risk</th>\n",
       "      <th>stop_auto_buy</th>\n",
       "      <th>rev_stop</th>\n",
       "      <th>went_on_backorder</th>\n",
       "    </tr>\n",
       "  </thead>\n",
       "  <tbody>\n",
       "    <tr>\n",
       "      <th>0</th>\n",
       "      <td>1026827</td>\n",
       "      <td>0.0</td>\n",
       "      <td>NaN</td>\n",
       "      <td>0.0</td>\n",
       "      <td>0.0</td>\n",
       "      <td>0.0</td>\n",
       "      <td>0.0</td>\n",
       "      <td>0.0</td>\n",
       "      <td>0.0</td>\n",
       "      <td>0.0</td>\n",
       "      <td>0.0</td>\n",
       "      <td>0.0</td>\n",
       "      <td>No</td>\n",
       "      <td>0.0</td>\n",
       "      <td>-99.00</td>\n",
       "      <td>-99.00</td>\n",
       "      <td>0.0</td>\n",
       "      <td>No</td>\n",
       "      <td>No</td>\n",
       "      <td>No</td>\n",
       "      <td>Yes</td>\n",
       "      <td>No</td>\n",
       "      <td>No</td>\n",
       "    </tr>\n",
       "    <tr>\n",
       "      <th>1</th>\n",
       "      <td>1043384</td>\n",
       "      <td>2.0</td>\n",
       "      <td>9.0</td>\n",
       "      <td>0.0</td>\n",
       "      <td>0.0</td>\n",
       "      <td>0.0</td>\n",
       "      <td>0.0</td>\n",
       "      <td>0.0</td>\n",
       "      <td>0.0</td>\n",
       "      <td>0.0</td>\n",
       "      <td>0.0</td>\n",
       "      <td>0.0</td>\n",
       "      <td>No</td>\n",
       "      <td>0.0</td>\n",
       "      <td>0.99</td>\n",
       "      <td>0.99</td>\n",
       "      <td>0.0</td>\n",
       "      <td>No</td>\n",
       "      <td>No</td>\n",
       "      <td>No</td>\n",
       "      <td>Yes</td>\n",
       "      <td>No</td>\n",
       "      <td>No</td>\n",
       "    </tr>\n",
       "    <tr>\n",
       "      <th>2</th>\n",
       "      <td>1043696</td>\n",
       "      <td>2.0</td>\n",
       "      <td>NaN</td>\n",
       "      <td>0.0</td>\n",
       "      <td>0.0</td>\n",
       "      <td>0.0</td>\n",
       "      <td>0.0</td>\n",
       "      <td>0.0</td>\n",
       "      <td>0.0</td>\n",
       "      <td>0.0</td>\n",
       "      <td>0.0</td>\n",
       "      <td>0.0</td>\n",
       "      <td>No</td>\n",
       "      <td>0.0</td>\n",
       "      <td>-99.00</td>\n",
       "      <td>-99.00</td>\n",
       "      <td>0.0</td>\n",
       "      <td>Yes</td>\n",
       "      <td>No</td>\n",
       "      <td>No</td>\n",
       "      <td>Yes</td>\n",
       "      <td>No</td>\n",
       "      <td>No</td>\n",
       "    </tr>\n",
       "    <tr>\n",
       "      <th>3</th>\n",
       "      <td>1043852</td>\n",
       "      <td>7.0</td>\n",
       "      <td>8.0</td>\n",
       "      <td>0.0</td>\n",
       "      <td>0.0</td>\n",
       "      <td>0.0</td>\n",
       "      <td>0.0</td>\n",
       "      <td>0.0</td>\n",
       "      <td>0.0</td>\n",
       "      <td>0.0</td>\n",
       "      <td>0.0</td>\n",
       "      <td>1.0</td>\n",
       "      <td>No</td>\n",
       "      <td>0.0</td>\n",
       "      <td>0.10</td>\n",
       "      <td>0.13</td>\n",
       "      <td>0.0</td>\n",
       "      <td>No</td>\n",
       "      <td>No</td>\n",
       "      <td>No</td>\n",
       "      <td>Yes</td>\n",
       "      <td>No</td>\n",
       "      <td>No</td>\n",
       "    </tr>\n",
       "    <tr>\n",
       "      <th>4</th>\n",
       "      <td>1044048</td>\n",
       "      <td>8.0</td>\n",
       "      <td>NaN</td>\n",
       "      <td>0.0</td>\n",
       "      <td>0.0</td>\n",
       "      <td>0.0</td>\n",
       "      <td>0.0</td>\n",
       "      <td>0.0</td>\n",
       "      <td>0.0</td>\n",
       "      <td>0.0</td>\n",
       "      <td>4.0</td>\n",
       "      <td>2.0</td>\n",
       "      <td>No</td>\n",
       "      <td>0.0</td>\n",
       "      <td>-99.00</td>\n",
       "      <td>-99.00</td>\n",
       "      <td>0.0</td>\n",
       "      <td>Yes</td>\n",
       "      <td>No</td>\n",
       "      <td>No</td>\n",
       "      <td>Yes</td>\n",
       "      <td>No</td>\n",
       "      <td>No</td>\n",
       "    </tr>\n",
       "  </tbody>\n",
       "</table>\n",
       "</div>"
      ],
      "text/plain": [
       "       sku  national_inv  lead_time  in_transit_qty  forecast_3_month  \\\n",
       "0  1026827           0.0        NaN             0.0               0.0   \n",
       "1  1043384           2.0        9.0             0.0               0.0   \n",
       "2  1043696           2.0        NaN             0.0               0.0   \n",
       "3  1043852           7.0        8.0             0.0               0.0   \n",
       "4  1044048           8.0        NaN             0.0               0.0   \n",
       "\n",
       "   forecast_6_month  forecast_9_month  sales_1_month  sales_3_month  \\\n",
       "0               0.0               0.0            0.0            0.0   \n",
       "1               0.0               0.0            0.0            0.0   \n",
       "2               0.0               0.0            0.0            0.0   \n",
       "3               0.0               0.0            0.0            0.0   \n",
       "4               0.0               0.0            0.0            0.0   \n",
       "\n",
       "   sales_6_month  sales_9_month  min_bank potential_issue  pieces_past_due  \\\n",
       "0            0.0            0.0       0.0              No              0.0   \n",
       "1            0.0            0.0       0.0              No              0.0   \n",
       "2            0.0            0.0       0.0              No              0.0   \n",
       "3            0.0            0.0       1.0              No              0.0   \n",
       "4            0.0            4.0       2.0              No              0.0   \n",
       "\n",
       "   perf_6_month_avg  perf_12_month_avg  local_bo_qty deck_risk oe_constraint  \\\n",
       "0            -99.00             -99.00           0.0        No            No   \n",
       "1              0.99               0.99           0.0        No            No   \n",
       "2            -99.00             -99.00           0.0       Yes            No   \n",
       "3              0.10               0.13           0.0        No            No   \n",
       "4            -99.00             -99.00           0.0       Yes            No   \n",
       "\n",
       "  ppap_risk stop_auto_buy rev_stop went_on_backorder  \n",
       "0        No           Yes       No                No  \n",
       "1        No           Yes       No                No  \n",
       "2        No           Yes       No                No  \n",
       "3        No           Yes       No                No  \n",
       "4        No           Yes       No                No  "
      ]
     },
     "execution_count": 2,
     "metadata": {},
     "output_type": "execute_result"
    }
   ],
   "source": [
    "data = pd.read_csv(\"/Users/devvratmungekar/Library/CloudStorage/OneDrive-Personal/Canada/Trent University/Sem-4/AMOD-5610H-Big_Data_Major_Research_Paper/Training_Dataset_v2.csv\")\n",
    "data.head()"
   ]
  },
  {
   "cell_type": "code",
   "execution_count": 3,
   "id": "51426500",
   "metadata": {},
   "outputs": [],
   "source": [
    "# Change -99 placeholder to NA\n",
    "data['perf_6_month_avg'] = data['perf_6_month_avg'].replace(-99, np.NaN)\n",
    "data['perf_12_month_avg'] = data['perf_12_month_avg'].replace(-99, np.NaN)"
   ]
  },
  {
   "cell_type": "code",
   "execution_count": 4,
   "id": "8a22cefb",
   "metadata": {},
   "outputs": [
    {
     "data": {
      "text/plain": [
       "sku                       0\n",
       "national_inv              1\n",
       "lead_time            100894\n",
       "in_transit_qty            1\n",
       "forecast_3_month          1\n",
       "forecast_6_month          1\n",
       "forecast_9_month          1\n",
       "sales_1_month             1\n",
       "sales_3_month             1\n",
       "sales_6_month             1\n",
       "sales_9_month             1\n",
       "min_bank                  1\n",
       "potential_issue           1\n",
       "pieces_past_due           1\n",
       "perf_6_month_avg     129479\n",
       "perf_12_month_avg    122051\n",
       "local_bo_qty              1\n",
       "deck_risk                 1\n",
       "oe_constraint             1\n",
       "ppap_risk                 1\n",
       "stop_auto_buy             1\n",
       "rev_stop                  1\n",
       "went_on_backorder         1\n",
       "dtype: int64"
      ]
     },
     "execution_count": 4,
     "metadata": {},
     "output_type": "execute_result"
    }
   ],
   "source": [
    "# missing_values_count\n",
    "data.isnull().sum()"
   ]
  },
  {
   "cell_type": "code",
   "execution_count": 5,
   "id": "92e2faac",
   "metadata": {},
   "outputs": [],
   "source": [
    "# Filling missing values with mean of the column\n",
    "def mean_fill_missing_value(data, x):\n",
    "    data[x] = data[x].fillna(data[x].mean())\n",
    "\n",
    "def bin_fill_missing_value(data, x):\n",
    "    data[x] = data[x].fillna('No')\n",
    "\n",
    "for feature in data.columns:\n",
    "    if data[feature].dtypes != \"O\": # if type != object\n",
    "        mean_fill_missing_value(data, feature)\n",
    "    else: # if type = object\n",
    "        bin_fill_missing_value(data, feature)"
   ]
  },
  {
   "cell_type": "code",
   "execution_count": 6,
   "id": "72006c9c",
   "metadata": {},
   "outputs": [
    {
     "data": {
      "text/plain": [
       "sku                  False\n",
       "national_inv         False\n",
       "lead_time            False\n",
       "in_transit_qty       False\n",
       "forecast_3_month     False\n",
       "forecast_6_month     False\n",
       "forecast_9_month     False\n",
       "sales_1_month        False\n",
       "sales_3_month        False\n",
       "sales_6_month        False\n",
       "sales_9_month        False\n",
       "min_bank             False\n",
       "potential_issue      False\n",
       "pieces_past_due      False\n",
       "perf_6_month_avg     False\n",
       "perf_12_month_avg    False\n",
       "local_bo_qty         False\n",
       "deck_risk            False\n",
       "oe_constraint        False\n",
       "ppap_risk            False\n",
       "stop_auto_buy        False\n",
       "rev_stop             False\n",
       "went_on_backorder    False\n",
       "dtype: bool"
      ]
     },
     "execution_count": 6,
     "metadata": {},
     "output_type": "execute_result"
    }
   ],
   "source": [
    "data.isnull().any()"
   ]
  },
  {
   "cell_type": "code",
   "execution_count": 7,
   "id": "2a4d1423",
   "metadata": {},
   "outputs": [
    {
     "data": {
      "text/plain": [
       "No     1686954\n",
       "Yes        907\n",
       "Name: potential_issue, dtype: int64"
      ]
     },
     "execution_count": 7,
     "metadata": {},
     "output_type": "execute_result"
    }
   ],
   "source": [
    "data.potential_issue.value_counts()"
   ]
  },
  {
   "cell_type": "code",
   "execution_count": 8,
   "id": "6b523051",
   "metadata": {},
   "outputs": [],
   "source": [
    "data['potential_issue'] = data['potential_issue'].map({'Yes': 1, 'No': 0}).astype('int')\n",
    "data['deck_risk'] = data['deck_risk'].map({'Yes': 1, 'No': 0}).astype('int')\n",
    "data['oe_constraint'] = data['oe_constraint'].map({'Yes': 1, 'No': 0}).astype('int')\n",
    "data['ppap_risk'] = data['ppap_risk'].map({'Yes': 1, 'No': 0}).astype('int')\n",
    "data['stop_auto_buy'] = data['stop_auto_buy'].map({'Yes': 1, 'No': 0}).astype('int')\n",
    "data['rev_stop'] = data['rev_stop'].map({'Yes': 1, 'No': 0}).astype('int')\n",
    "data['went_on_backorder'] = data['went_on_backorder'].map({'Yes': 1, 'No': 0}).astype('int')   "
   ]
  },
  {
   "cell_type": "code",
   "execution_count": 9,
   "id": "1d337f32",
   "metadata": {},
   "outputs": [
    {
     "name": "stdout",
     "output_type": "stream",
     "text": [
      "<class 'pandas.core.frame.DataFrame'>\n",
      "RangeIndex: 1687861 entries, 0 to 1687860\n",
      "Data columns (total 23 columns):\n",
      " #   Column             Non-Null Count    Dtype  \n",
      "---  ------             --------------    -----  \n",
      " 0   sku                1687861 non-null  object \n",
      " 1   national_inv       1687861 non-null  float64\n",
      " 2   lead_time          1687861 non-null  float64\n",
      " 3   in_transit_qty     1687861 non-null  float64\n",
      " 4   forecast_3_month   1687861 non-null  float64\n",
      " 5   forecast_6_month   1687861 non-null  float64\n",
      " 6   forecast_9_month   1687861 non-null  float64\n",
      " 7   sales_1_month      1687861 non-null  float64\n",
      " 8   sales_3_month      1687861 non-null  float64\n",
      " 9   sales_6_month      1687861 non-null  float64\n",
      " 10  sales_9_month      1687861 non-null  float64\n",
      " 11  min_bank           1687861 non-null  float64\n",
      " 12  potential_issue    1687861 non-null  int64  \n",
      " 13  pieces_past_due    1687861 non-null  float64\n",
      " 14  perf_6_month_avg   1687861 non-null  float64\n",
      " 15  perf_12_month_avg  1687861 non-null  float64\n",
      " 16  local_bo_qty       1687861 non-null  float64\n",
      " 17  deck_risk          1687861 non-null  int64  \n",
      " 18  oe_constraint      1687861 non-null  int64  \n",
      " 19  ppap_risk          1687861 non-null  int64  \n",
      " 20  stop_auto_buy      1687861 non-null  int64  \n",
      " 21  rev_stop           1687861 non-null  int64  \n",
      " 22  went_on_backorder  1687861 non-null  int64  \n",
      "dtypes: float64(15), int64(7), object(1)\n",
      "memory usage: 296.2+ MB\n"
     ]
    }
   ],
   "source": [
    "data.info()"
   ]
  },
  {
   "cell_type": "code",
   "execution_count": 10,
   "id": "15b26028",
   "metadata": {},
   "outputs": [
    {
     "data": {
      "image/png": "[encoded data removed]",
      "text/plain": [
       "<Figure size 432x288 with 1 Axes>"
      ]
     },
     "metadata": {
      "needs_background": "light"
     },
     "output_type": "display_data"
    }
   ],
   "source": [
    "sns.countplot(data['went_on_backorder'], palette= 'Set1')\n",
    "plt.title(\"Count Plot of Backorder\")\n",
    "plt.show()"
   ]
  },
  {
   "cell_type": "code",
   "execution_count": 11,
   "id": "0d3557f2",
   "metadata": {},
   "outputs": [
    {
     "data": {
      "image/png": "[encoded data removed]",
      "text/plain": [
       "<Figure size 648x648 with 1 Axes>"
      ]
     },
     "metadata": {
      "needs_background": "light"
     },
     "output_type": "display_data"
    }
   ],
   "source": [
    "plt.figure(figsize= (9, 9))\n",
    "sns.boxplot(x= 'went_on_backorder', y= 'national_inv', data= data)\n",
    "plt.title('Box Plot: log_national_inv vs went_on_backorder')\n",
    "plt.xlabel('went_on_backorder')\n",
    "plt.ylabel('national_inv')\n",
    "plt.show()"
   ]
  },
  {
   "cell_type": "code",
   "execution_count": 12,
   "id": "94da670d",
   "metadata": {},
   "outputs": [],
   "source": [
    "#applying log on national_inv and a small epsilon as there are zeros values. log(0) = inf. we don't want inf on our plot.\n",
    "epsilon = 1e-7\n",
    "log_national_inv = np.log(data['national_inv'] + epsilon)"
   ]
  },
  {
   "cell_type": "code",
   "execution_count": 13,
   "id": "876f163c",
   "metadata": {},
   "outputs": [],
   "source": [
    "data['log_national_inv'] = log_national_inv"
   ]
  },
  {
   "cell_type": "code",
   "execution_count": 14,
   "id": "d7dec75c",
   "metadata": {},
   "outputs": [
    {
     "data": {
      "image/png": "[encoded data removed]",
      "text/plain": [
       "<Figure size 648x648 with 1 Axes>"
      ]
     },
     "metadata": {
      "needs_background": "light"
     },
     "output_type": "display_data"
    }
   ],
   "source": [
    "plt.figure(figsize=(9, 9))\n",
    "sns.boxplot(x='went_on_backorder', y='log_national_inv', data=data)\n",
    "plt.title('Box Plot: log_national_inv vs went_on_backorder')\n",
    "plt.xlabel('went_on_backorder')\n",
    "plt.ylabel('log_national_inv')\n",
    "plt.show()"
   ]
  },
  {
   "cell_type": "code",
   "execution_count": 15,
   "id": "be159b04",
   "metadata": {},
   "outputs": [
    {
     "data": {
      "image/png": "[encoded data removed]",
      "text/plain": [
       "<Figure size 1368x504 with 3 Axes>"
      ]
     },
     "metadata": {
      "needs_background": "light"
     },
     "output_type": "display_data"
    }
   ],
   "source": [
    "plt.figure(figsize= (19, 7))\n",
    "\n",
    "plt.subplot(1, 3, 1)\n",
    "sns.barplot(x= 'went_on_backorder', y= 'forecast_3_month', orient= 'v', data= data)\n",
    "plt.title(\"Forecast for 3 months vs went_on_backorder\")\n",
    "plt.xlabel(\"Went on Backorder\")\n",
    "plt.ylabel(\"Forecast of 3 months\")\n",
    "\n",
    "plt.subplot(1, 3, 2)\n",
    "sns.barplot(x='went_on_backorder', y='forecast_6_month', orient='v', data=data)\n",
    "plt.title('Forecast for 6 months vs went_on_backorder')\n",
    "plt.xlabel('Went on Backorder')\n",
    "plt.ylabel('Forecast of 6 months')\n",
    "\n",
    "plt.subplot(1, 3, 3)\n",
    "sns.barplot(x='went_on_backorder', y='forecast_9_month', orient='v', data=data)\n",
    "plt.title('Forecast for 9 months vs went_on_backorder')\n",
    "plt.xlabel('Went on Backorder')\n",
    "plt.ylabel('Forecast of 9 months')\n",
    "\n",
    "plt.show()"
   ]
  },
  {
   "cell_type": "code",
   "execution_count": 16,
   "id": "a9f6f148",
   "metadata": {},
   "outputs": [
    {
     "data": {
      "image/png": "[encoded data removed]",
      "text/plain": [
       "<Figure size 1368x504 with 4 Axes>"
      ]
     },
     "metadata": {
      "needs_background": "light"
     },
     "output_type": "display_data"
    }
   ],
   "source": [
    "plt.figure(figsize=(19, 7))\n",
    "\n",
    "plt.subplot(1, 4, 1)\n",
    "sns.barplot(x='went_on_backorder', y='sales_1_month', orient='v', data=data)\n",
    "plt.title('sales_1_month vs went_on_backorder')\n",
    "plt.xlabel('went_on_backorder')\n",
    "plt.ylabel('sales of 1 month')\n",
    "\n",
    "plt.subplot(1, 4, 2)\n",
    "sns.barplot(x='went_on_backorder', y='sales_3_month', orient='v', data=data)\n",
    "plt.title('sales_3_month vs went_on_backorder')\n",
    "plt.xlabel('went_on_backorder')\n",
    "plt.ylabel('sales of 3 months')\n",
    "\n",
    "plt.subplot(1, 4, 3)\n",
    "sns.barplot(x='went_on_backorder', y='sales_6_month', orient='v', data=data)\n",
    "plt.title('sales_6_month vs went_on_backorder')\n",
    "plt.xlabel('went_on_backorder')\n",
    "plt.ylabel('sales of 6 months')\n",
    "\n",
    "plt.subplot(1, 4, 4)\n",
    "sns.barplot(x='went_on_backorder', y='sales_9_month', orient='v', data=data)\n",
    "plt.title('Barplot: sales_9_month vs went_on_backorder')\n",
    "plt.xlabel('went_on_backorder')\n",
    "plt.ylabel('sales of 9 months')\n",
    "\n",
    "plt.show()"
   ]
  },
  {
   "cell_type": "code",
   "execution_count": 17,
   "id": "695277f2",
   "metadata": {},
   "outputs": [
    {
     "data": {
      "text/html": [
       "<div>\n",
       "<style scoped>\n",
       "    .dataframe tbody tr th:only-of-type {\n",
       "        vertical-align: middle;\n",
       "    }\n",
       "\n",
       "    .dataframe tbody tr th {\n",
       "        vertical-align: top;\n",
       "    }\n",
       "\n",
       "    .dataframe thead th {\n",
       "        text-align: right;\n",
       "    }\n",
       "</style>\n",
       "<table border=\"1\" class=\"dataframe\">\n",
       "  <thead>\n",
       "    <tr style=\"text-align: right;\">\n",
       "      <th></th>\n",
       "      <th>sku</th>\n",
       "      <th>national_inv</th>\n",
       "      <th>lead_time</th>\n",
       "      <th>in_transit_qty</th>\n",
       "      <th>forecast_3_month</th>\n",
       "      <th>forecast_6_month</th>\n",
       "      <th>forecast_9_month</th>\n",
       "      <th>sales_1_month</th>\n",
       "      <th>sales_3_month</th>\n",
       "      <th>sales_6_month</th>\n",
       "      <th>sales_9_month</th>\n",
       "      <th>min_bank</th>\n",
       "      <th>potential_issue</th>\n",
       "      <th>pieces_past_due</th>\n",
       "      <th>perf_6_month_avg</th>\n",
       "      <th>perf_12_month_avg</th>\n",
       "      <th>local_bo_qty</th>\n",
       "      <th>deck_risk</th>\n",
       "      <th>oe_constraint</th>\n",
       "      <th>ppap_risk</th>\n",
       "      <th>stop_auto_buy</th>\n",
       "      <th>rev_stop</th>\n",
       "      <th>went_on_backorder</th>\n",
       "      <th>log_national_inv</th>\n",
       "    </tr>\n",
       "  </thead>\n",
       "  <tbody>\n",
       "    <tr>\n",
       "      <th>0</th>\n",
       "      <td>1026827</td>\n",
       "      <td>0.0</td>\n",
       "      <td>7.872267</td>\n",
       "      <td>0.0</td>\n",
       "      <td>0.0</td>\n",
       "      <td>0.0</td>\n",
       "      <td>0.0</td>\n",
       "      <td>0.0</td>\n",
       "      <td>0.0</td>\n",
       "      <td>0.0</td>\n",
       "      <td>0.0</td>\n",
       "      <td>0.0</td>\n",
       "      <td>0</td>\n",
       "      <td>0.0</td>\n",
       "      <td>0.782381</td>\n",
       "      <td>0.776976</td>\n",
       "      <td>0.0</td>\n",
       "      <td>0</td>\n",
       "      <td>0</td>\n",
       "      <td>0</td>\n",
       "      <td>1</td>\n",
       "      <td>0</td>\n",
       "      <td>0</td>\n",
       "      <td>-16.118096</td>\n",
       "    </tr>\n",
       "    <tr>\n",
       "      <th>1</th>\n",
       "      <td>1043384</td>\n",
       "      <td>2.0</td>\n",
       "      <td>9.000000</td>\n",
       "      <td>0.0</td>\n",
       "      <td>0.0</td>\n",
       "      <td>0.0</td>\n",
       "      <td>0.0</td>\n",
       "      <td>0.0</td>\n",
       "      <td>0.0</td>\n",
       "      <td>0.0</td>\n",
       "      <td>0.0</td>\n",
       "      <td>0.0</td>\n",
       "      <td>0</td>\n",
       "      <td>0.0</td>\n",
       "      <td>0.990000</td>\n",
       "      <td>0.990000</td>\n",
       "      <td>0.0</td>\n",
       "      <td>0</td>\n",
       "      <td>0</td>\n",
       "      <td>0</td>\n",
       "      <td>1</td>\n",
       "      <td>0</td>\n",
       "      <td>0</td>\n",
       "      <td>0.693147</td>\n",
       "    </tr>\n",
       "    <tr>\n",
       "      <th>2</th>\n",
       "      <td>1043696</td>\n",
       "      <td>2.0</td>\n",
       "      <td>7.872267</td>\n",
       "      <td>0.0</td>\n",
       "      <td>0.0</td>\n",
       "      <td>0.0</td>\n",
       "      <td>0.0</td>\n",
       "      <td>0.0</td>\n",
       "      <td>0.0</td>\n",
       "      <td>0.0</td>\n",
       "      <td>0.0</td>\n",
       "      <td>0.0</td>\n",
       "      <td>0</td>\n",
       "      <td>0.0</td>\n",
       "      <td>0.782381</td>\n",
       "      <td>0.776976</td>\n",
       "      <td>0.0</td>\n",
       "      <td>1</td>\n",
       "      <td>0</td>\n",
       "      <td>0</td>\n",
       "      <td>1</td>\n",
       "      <td>0</td>\n",
       "      <td>0</td>\n",
       "      <td>0.693147</td>\n",
       "    </tr>\n",
       "    <tr>\n",
       "      <th>3</th>\n",
       "      <td>1043852</td>\n",
       "      <td>7.0</td>\n",
       "      <td>8.000000</td>\n",
       "      <td>0.0</td>\n",
       "      <td>0.0</td>\n",
       "      <td>0.0</td>\n",
       "      <td>0.0</td>\n",
       "      <td>0.0</td>\n",
       "      <td>0.0</td>\n",
       "      <td>0.0</td>\n",
       "      <td>0.0</td>\n",
       "      <td>1.0</td>\n",
       "      <td>0</td>\n",
       "      <td>0.0</td>\n",
       "      <td>0.100000</td>\n",
       "      <td>0.130000</td>\n",
       "      <td>0.0</td>\n",
       "      <td>0</td>\n",
       "      <td>0</td>\n",
       "      <td>0</td>\n",
       "      <td>1</td>\n",
       "      <td>0</td>\n",
       "      <td>0</td>\n",
       "      <td>1.945910</td>\n",
       "    </tr>\n",
       "    <tr>\n",
       "      <th>4</th>\n",
       "      <td>1044048</td>\n",
       "      <td>8.0</td>\n",
       "      <td>7.872267</td>\n",
       "      <td>0.0</td>\n",
       "      <td>0.0</td>\n",
       "      <td>0.0</td>\n",
       "      <td>0.0</td>\n",
       "      <td>0.0</td>\n",
       "      <td>0.0</td>\n",
       "      <td>0.0</td>\n",
       "      <td>4.0</td>\n",
       "      <td>2.0</td>\n",
       "      <td>0</td>\n",
       "      <td>0.0</td>\n",
       "      <td>0.782381</td>\n",
       "      <td>0.776976</td>\n",
       "      <td>0.0</td>\n",
       "      <td>1</td>\n",
       "      <td>0</td>\n",
       "      <td>0</td>\n",
       "      <td>1</td>\n",
       "      <td>0</td>\n",
       "      <td>0</td>\n",
       "      <td>2.079442</td>\n",
       "    </tr>\n",
       "  </tbody>\n",
       "</table>\n",
       "</div>"
      ],
      "text/plain": [
       "       sku  national_inv  lead_time  in_transit_qty  forecast_3_month  \\\n",
       "0  1026827           0.0   7.872267             0.0               0.0   \n",
       "1  1043384           2.0   9.000000             0.0               0.0   \n",
       "2  1043696           2.0   7.872267             0.0               0.0   \n",
       "3  1043852           7.0   8.000000             0.0               0.0   \n",
       "4  1044048           8.0   7.872267             0.0               0.0   \n",
       "\n",
       "   forecast_6_month  forecast_9_month  sales_1_month  sales_3_month  \\\n",
       "0               0.0               0.0            0.0            0.0   \n",
       "1               0.0               0.0            0.0            0.0   \n",
       "2               0.0               0.0            0.0            0.0   \n",
       "3               0.0               0.0            0.0            0.0   \n",
       "4               0.0               0.0            0.0            0.0   \n",
       "\n",
       "   sales_6_month  sales_9_month  min_bank  potential_issue  pieces_past_due  \\\n",
       "0            0.0            0.0       0.0                0              0.0   \n",
       "1            0.0            0.0       0.0                0              0.0   \n",
       "2            0.0            0.0       0.0                0              0.0   \n",
       "3            0.0            0.0       1.0                0              0.0   \n",
       "4            0.0            4.0       2.0                0              0.0   \n",
       "\n",
       "   perf_6_month_avg  perf_12_month_avg  local_bo_qty  deck_risk  \\\n",
       "0          0.782381           0.776976           0.0          0   \n",
       "1          0.990000           0.990000           0.0          0   \n",
       "2          0.782381           0.776976           0.0          1   \n",
       "3          0.100000           0.130000           0.0          0   \n",
       "4          0.782381           0.776976           0.0          1   \n",
       "\n",
       "   oe_constraint  ppap_risk  stop_auto_buy  rev_stop  went_on_backorder  \\\n",
       "0              0          0              1         0                  0   \n",
       "1              0          0              1         0                  0   \n",
       "2              0          0              1         0                  0   \n",
       "3              0          0              1         0                  0   \n",
       "4              0          0              1         0                  0   \n",
       "\n",
       "   log_national_inv  \n",
       "0        -16.118096  \n",
       "1          0.693147  \n",
       "2          0.693147  \n",
       "3          1.945910  \n",
       "4          2.079442  "
      ]
     },
     "execution_count": 17,
     "metadata": {},
     "output_type": "execute_result"
    }
   ],
   "source": [
    "data.head()"
   ]
  },
  {
   "cell_type": "code",
   "execution_count": 18,
   "id": "d362ebfb",
   "metadata": {},
   "outputs": [
    {
     "data": {
      "text/plain": [
       "sku                  0\n",
       "national_inv         0\n",
       "lead_time            0\n",
       "in_transit_qty       0\n",
       "forecast_3_month     0\n",
       "forecast_6_month     0\n",
       "forecast_9_month     0\n",
       "sales_1_month        0\n",
       "sales_3_month        0\n",
       "sales_6_month        0\n",
       "sales_9_month        0\n",
       "min_bank             0\n",
       "potential_issue      0\n",
       "pieces_past_due      0\n",
       "perf_6_month_avg     0\n",
       "perf_12_month_avg    0\n",
       "local_bo_qty         0\n",
       "deck_risk            0\n",
       "oe_constraint        0\n",
       "ppap_risk            0\n",
       "stop_auto_buy        0\n",
       "rev_stop             0\n",
       "went_on_backorder    0\n",
       "dtype: int64"
      ]
     },
     "execution_count": 18,
     "metadata": {},
     "output_type": "execute_result"
    }
   ],
   "source": [
    "data.drop('log_national_inv', axis=1, inplace= True)\n",
    "data.isnull().sum()"
   ]
  },
  {
   "cell_type": "code",
   "execution_count": 19,
   "id": "0b6c7caa",
   "metadata": {},
   "outputs": [],
   "source": [
    "final_data = data.drop([\"sku\", \"national_inv\", \"lead_time\", \"in_transit_qty\", \"min_bank\", \"potential_issue\", \n",
    "                        \"pieces_past_due\", \"local_bo_qty\", \"deck_risk\", \"oe_constraint\", \"ppap_risk\", \n",
    "                        \"stop_auto_buy\", \"rev_stop\"], axis= 1)"
   ]
  },
  {
   "cell_type": "code",
   "execution_count": 20,
   "id": "eca040ce",
   "metadata": {},
   "outputs": [
    {
     "data": {
      "text/html": [
       "<div>\n",
       "<style scoped>\n",
       "    .dataframe tbody tr th:only-of-type {\n",
       "        vertical-align: middle;\n",
       "    }\n",
       "\n",
       "    .dataframe tbody tr th {\n",
       "        vertical-align: top;\n",
       "    }\n",
       "\n",
       "    .dataframe thead th {\n",
       "        text-align: right;\n",
       "    }\n",
       "</style>\n",
       "<table border=\"1\" class=\"dataframe\">\n",
       "  <thead>\n",
       "    <tr style=\"text-align: right;\">\n",
       "      <th></th>\n",
       "      <th>forecast_3_month</th>\n",
       "      <th>forecast_6_month</th>\n",
       "      <th>forecast_9_month</th>\n",
       "      <th>sales_1_month</th>\n",
       "      <th>sales_3_month</th>\n",
       "      <th>sales_6_month</th>\n",
       "      <th>sales_9_month</th>\n",
       "      <th>perf_6_month_avg</th>\n",
       "      <th>perf_12_month_avg</th>\n",
       "      <th>went_on_backorder</th>\n",
       "    </tr>\n",
       "  </thead>\n",
       "  <tbody>\n",
       "    <tr>\n",
       "      <th>0</th>\n",
       "      <td>0.0</td>\n",
       "      <td>0.0</td>\n",
       "      <td>0.0</td>\n",
       "      <td>0.0</td>\n",
       "      <td>0.0</td>\n",
       "      <td>0.0</td>\n",
       "      <td>0.0</td>\n",
       "      <td>0.782381</td>\n",
       "      <td>0.776976</td>\n",
       "      <td>0</td>\n",
       "    </tr>\n",
       "    <tr>\n",
       "      <th>1</th>\n",
       "      <td>0.0</td>\n",
       "      <td>0.0</td>\n",
       "      <td>0.0</td>\n",
       "      <td>0.0</td>\n",
       "      <td>0.0</td>\n",
       "      <td>0.0</td>\n",
       "      <td>0.0</td>\n",
       "      <td>0.990000</td>\n",
       "      <td>0.990000</td>\n",
       "      <td>0</td>\n",
       "    </tr>\n",
       "    <tr>\n",
       "      <th>2</th>\n",
       "      <td>0.0</td>\n",
       "      <td>0.0</td>\n",
       "      <td>0.0</td>\n",
       "      <td>0.0</td>\n",
       "      <td>0.0</td>\n",
       "      <td>0.0</td>\n",
       "      <td>0.0</td>\n",
       "      <td>0.782381</td>\n",
       "      <td>0.776976</td>\n",
       "      <td>0</td>\n",
       "    </tr>\n",
       "    <tr>\n",
       "      <th>3</th>\n",
       "      <td>0.0</td>\n",
       "      <td>0.0</td>\n",
       "      <td>0.0</td>\n",
       "      <td>0.0</td>\n",
       "      <td>0.0</td>\n",
       "      <td>0.0</td>\n",
       "      <td>0.0</td>\n",
       "      <td>0.100000</td>\n",
       "      <td>0.130000</td>\n",
       "      <td>0</td>\n",
       "    </tr>\n",
       "    <tr>\n",
       "      <th>4</th>\n",
       "      <td>0.0</td>\n",
       "      <td>0.0</td>\n",
       "      <td>0.0</td>\n",
       "      <td>0.0</td>\n",
       "      <td>0.0</td>\n",
       "      <td>0.0</td>\n",
       "      <td>4.0</td>\n",
       "      <td>0.782381</td>\n",
       "      <td>0.776976</td>\n",
       "      <td>0</td>\n",
       "    </tr>\n",
       "  </tbody>\n",
       "</table>\n",
       "</div>"
      ],
      "text/plain": [
       "   forecast_3_month  forecast_6_month  forecast_9_month  sales_1_month  \\\n",
       "0               0.0               0.0               0.0            0.0   \n",
       "1               0.0               0.0               0.0            0.0   \n",
       "2               0.0               0.0               0.0            0.0   \n",
       "3               0.0               0.0               0.0            0.0   \n",
       "4               0.0               0.0               0.0            0.0   \n",
       "\n",
       "   sales_3_month  sales_6_month  sales_9_month  perf_6_month_avg  \\\n",
       "0            0.0            0.0            0.0          0.782381   \n",
       "1            0.0            0.0            0.0          0.990000   \n",
       "2            0.0            0.0            0.0          0.782381   \n",
       "3            0.0            0.0            0.0          0.100000   \n",
       "4            0.0            0.0            4.0          0.782381   \n",
       "\n",
       "   perf_12_month_avg  went_on_backorder  \n",
       "0           0.776976                  0  \n",
       "1           0.990000                  0  \n",
       "2           0.776976                  0  \n",
       "3           0.130000                  0  \n",
       "4           0.776976                  0  "
      ]
     },
     "execution_count": 20,
     "metadata": {},
     "output_type": "execute_result"
    }
   ],
   "source": [
    "final_data.head()"
   ]
  },
  {
   "cell_type": "code",
   "execution_count": 21,
   "id": "c708e7aa",
   "metadata": {},
   "outputs": [],
   "source": [
    "X = final_data.drop(['went_on_backorder'], axis= 1).values\n",
    "y = final_data['went_on_backorder'].values"
   ]
  },
  {
   "cell_type": "code",
   "execution_count": 22,
   "id": "0e2c3255",
   "metadata": {},
   "outputs": [],
   "source": [
    "from sklearn.model_selection import train_test_split"
   ]
  },
  {
   "cell_type": "code",
   "execution_count": 23,
   "id": "2498bedb",
   "metadata": {},
   "outputs": [],
   "source": [
    "X_train, X_test, y_train, y_test = train_test_split(X, y, test_size= .33, random_state= 20)"
   ]
  },
  {
   "cell_type": "markdown",
   "id": "0fd91796",
   "metadata": {},
   "source": [
    "### Logistic Regression"
   ]
  },
  {
   "cell_type": "code",
   "execution_count": 24,
   "id": "f214d4c5",
   "metadata": {},
   "outputs": [],
   "source": [
    "from sklearn.preprocessing import RobustScaler\n",
    "from sklearn.linear_model import LogisticRegression\n",
    "from sklearn.metrics import confusion_matrix, precision_score, accuracy_score, recall_score, roc_auc_score"
   ]
  },
  {
   "cell_type": "code",
   "execution_count": 25,
   "id": "ccc10097",
   "metadata": {},
   "outputs": [],
   "source": [
    "robust_scaler = RobustScaler() # scaling number to remove outliers\n",
    "X_train_scaled = robust_scaler.fit_transform(X_train)\n",
    "X_test_scaled = robust_scaler.fit_transform(X_test)"
   ]
  },
  {
   "cell_type": "code",
   "execution_count": 26,
   "id": "7c93ae22",
   "metadata": {},
   "outputs": [
    {
     "data": {
      "text/plain": [
       "LogisticRegression(solver='saga')"
      ]
     },
     "execution_count": 26,
     "metadata": {},
     "output_type": "execute_result"
    }
   ],
   "source": [
    "lr = LogisticRegression(solver= 'saga', penalty= 'l2')\n",
    "lr.fit(X_train_scaled, y_train)"
   ]
  },
  {
   "cell_type": "code",
   "execution_count": 27,
   "id": "9312ed02",
   "metadata": {},
   "outputs": [],
   "source": [
    "lr_pred = lr.predict(X_test_scaled)"
   ]
  },
  {
   "cell_type": "code",
   "execution_count": 28,
   "id": "dd78cf2a",
   "metadata": {},
   "outputs": [
    {
     "data": {
      "text/plain": [
       "Text(114.0, 0.5, 'True labels')"
      ]
     },
     "execution_count": 28,
     "metadata": {},
     "output_type": "execute_result"
    },
    {
     "data": {
      "image/png": "[encoded data removed]",
      "text/plain": [
       "<Figure size 1080x360 with 2 Axes>"
      ]
     },
     "metadata": {
      "needs_background": "light"
     },
     "output_type": "display_data"
    }
   ],
   "source": [
    "plt.figure(figsize=(15,5))\n",
    "sns.heatmap(confusion_matrix(y_test, lr_pred), annot=True)\n",
    "plt.title('Logistic Regression: Confusion matrix for train set')\n",
    "plt.xlabel('Predicted labels')\n",
    "plt.ylabel('True labels')"
   ]
  },
  {
   "cell_type": "code",
   "execution_count": 29,
   "id": "c28cb3bc",
   "metadata": {},
   "outputs": [
    {
     "name": "stdout",
     "output_type": "stream",
     "text": [
      "The precision score the best logistic regression model on train set is: 0.49660409878006084\n"
     ]
    }
   ],
   "source": [
    "precision_lr = precision_score(y_test, lr_pred, average='macro')\n",
    "print('The precision score the best logistic regression model on train set is:', precision_lr)"
   ]
  },
  {
   "cell_type": "code",
   "execution_count": 30,
   "id": "7721f1f7",
   "metadata": {},
   "outputs": [
    {
     "name": "stdout",
     "output_type": "stream",
     "text": [
      "The accuracy score the best logistic regression model on train set is: 0.9932081975601217\n"
     ]
    }
   ],
   "source": [
    "accuracy_lr = accuracy_score(y_test, lr_pred)\n",
    "print('The accuracy score the best logistic regression model on train set is:', accuracy_lr)"
   ]
  },
  {
   "cell_type": "code",
   "execution_count": 31,
   "id": "89ec9ecf",
   "metadata": {},
   "outputs": [
    {
     "name": "stdout",
     "output_type": "stream",
     "text": [
      "The recall score the best logistic regression model on train set is: 0.5\n"
     ]
    }
   ],
   "source": [
    "recall_lr = recall_score(y_test, lr_pred, average='macro')\n",
    "print('The recall score the best logistic regression model on train set is:', recall_lr)"
   ]
  },
  {
   "cell_type": "code",
   "execution_count": 32,
   "id": "f106be6d",
   "metadata": {},
   "outputs": [
    {
     "name": "stdout",
     "output_type": "stream",
     "text": [
      "The AUC score the best logistic regression model on train set is: 0.5\n"
     ]
    }
   ],
   "source": [
    "auc_lr = roc_auc_score(y_test, lr_pred, average='macro')\n",
    "print('The AUC score the best logistic regression model on train set is:', auc_lr)"
   ]
  },
  {
   "cell_type": "markdown",
   "id": "d8aa33a4",
   "metadata": {},
   "source": [
    "### Decision Tree Classifier"
   ]
  },
  {
   "cell_type": "code",
   "execution_count": 33,
   "id": "d558f857",
   "metadata": {},
   "outputs": [],
   "source": [
    "from sklearn.tree import DecisionTreeClassifier\n",
    "from sklearn.model_selection import GridSearchCV"
   ]
  },
  {
   "cell_type": "code",
   "execution_count": 34,
   "id": "de2b93eb",
   "metadata": {},
   "outputs": [],
   "source": [
    "dtree = DecisionTreeClassifier(criterion= 'gini', class_weight= 'balanced')"
   ]
  },
  {
   "cell_type": "code",
   "execution_count": 35,
   "id": "971b1ec4",
   "metadata": {},
   "outputs": [],
   "source": [
    "params = {'max_depth': [1, 2, 3, 4, 5, 6, 7, 8, 9, 10, 11, 12, 13, 14, 15]}"
   ]
  },
  {
   "cell_type": "code",
   "execution_count": 36,
   "id": "658295b5",
   "metadata": {},
   "outputs": [
    {
     "data": {
      "text/plain": [
       "GridSearchCV(estimator=DecisionTreeClassifier(class_weight='balanced'),\n",
       "             n_jobs=-1,\n",
       "             param_grid={'max_depth': [1, 2, 3, 4, 5, 6, 7, 8, 9, 10, 11, 12,\n",
       "                                       13, 14, 15]},\n",
       "             scoring='roc_auc')"
      ]
     },
     "execution_count": 36,
     "metadata": {},
     "output_type": "execute_result"
    }
   ],
   "source": [
    "dtree_grid_search = GridSearchCV(dtree, params, n_jobs= -1, scoring= 'roc_auc')\n",
    "dtree_grid_search.fit(X_train_scaled, y_train)"
   ]
  },
  {
   "cell_type": "code",
   "execution_count": 37,
   "id": "c3716246",
   "metadata": {},
   "outputs": [],
   "source": [
    "best_max_depth = dtree_grid_search.best_estimator_.max_depth"
   ]
  },
  {
   "cell_type": "code",
   "execution_count": 38,
   "id": "23b51590",
   "metadata": {},
   "outputs": [],
   "source": [
    "best_tree = DecisionTreeClassifier(criterion= 'gini', max_depth= best_max_depth, class_weight= 'balanced')"
   ]
  },
  {
   "cell_type": "code",
   "execution_count": 39,
   "id": "cf50438f",
   "metadata": {},
   "outputs": [
    {
     "data": {
      "text/plain": [
       "DecisionTreeClassifier(class_weight='balanced', max_depth=8)"
      ]
     },
     "execution_count": 39,
     "metadata": {},
     "output_type": "execute_result"
    }
   ],
   "source": [
    "best_tree.fit(X_train, y_train)"
   ]
  },
  {
   "cell_type": "code",
   "execution_count": 40,
   "id": "94d79a3c",
   "metadata": {},
   "outputs": [],
   "source": [
    "best_tree_pred = best_tree.predict(X_test)"
   ]
  },
  {
   "cell_type": "code",
   "execution_count": 41,
   "id": "e6e800c1",
   "metadata": {},
   "outputs": [
    {
     "data": {
      "text/plain": [
       "Text(114.0, 0.5, 'True labels')"
      ]
     },
     "execution_count": 41,
     "metadata": {},
     "output_type": "execute_result"
    },
    {
     "data": {
      "image/png": "[encoded data removed]",
      "text/plain": [
       "<Figure size 1080x360 with 2 Axes>"
      ]
     },
     "metadata": {
      "needs_background": "light"
     },
     "output_type": "display_data"
    }
   ],
   "source": [
    "plt.figure(figsize=(15,5))\n",
    "sns.heatmap(confusion_matrix(y_test, best_tree_pred), annot=True, cmap='mako')\n",
    "plt.title('Decision Tree: Confusion matrix for train set')\n",
    "plt.xlabel('Predicted labels')\n",
    "plt.ylabel('True labels')"
   ]
  },
  {
   "cell_type": "code",
   "execution_count": 42,
   "id": "a59d7707",
   "metadata": {},
   "outputs": [
    {
     "name": "stdout",
     "output_type": "stream",
     "text": [
      "The precision score of the decision tree model on train set is: 0.513253168498357\n"
     ]
    }
   ],
   "source": [
    "precision_dt = precision_score(y_test, best_tree_pred, average='macro')\n",
    "print('The precision score of the decision tree model on train set is:', precision_dt)"
   ]
  },
  {
   "cell_type": "code",
   "execution_count": 43,
   "id": "f1873450",
   "metadata": {},
   "outputs": [
    {
     "name": "stdout",
     "output_type": "stream",
     "text": [
      "The accuracy score the best decision tree model on train set is: 0.804167003294464\n"
     ]
    }
   ],
   "source": [
    "accuracy_dt = accuracy_score(y_test, best_tree_pred)\n",
    "print('The accuracy score the best decision tree model on train set is:',accuracy_dt)"
   ]
  },
  {
   "cell_type": "code",
   "execution_count": 44,
   "id": "2fcde896",
   "metadata": {},
   "outputs": [
    {
     "name": "stdout",
     "output_type": "stream",
     "text": [
      "The recall score the best decision tree model on train set is: 0.8146468191474427\n"
     ]
    }
   ],
   "source": [
    "recall_dt = recall_score(y_test,best_tree_pred, average='macro')\n",
    "print('The recall score the best decision tree model on train set is:',recall_dt)"
   ]
  },
  {
   "cell_type": "code",
   "execution_count": 45,
   "id": "3b096beb",
   "metadata": {},
   "outputs": [
    {
     "name": "stdout",
     "output_type": "stream",
     "text": [
      "The AUC score the best decision tree model on train set is: 0.8146468191474426\n"
     ]
    }
   ],
   "source": [
    "auc_dt = roc_auc_score(y_test,best_tree_pred, average='macro')\n",
    "print('The AUC score the best decision tree model on train set is:',auc_dt)"
   ]
  },
  {
   "cell_type": "markdown",
   "id": "63171aef",
   "metadata": {},
   "source": [
    "### Random Forest Classifier"
   ]
  },
  {
   "cell_type": "code",
   "execution_count": 46,
   "id": "82702c39",
   "metadata": {},
   "outputs": [],
   "source": [
    "from sklearn.ensemble import RandomForestClassifier"
   ]
  },
  {
   "cell_type": "code",
   "execution_count": 47,
   "id": "5cb5052f",
   "metadata": {},
   "outputs": [
    {
     "data": {
      "text/plain": [
       "RandomForestClassifier(n_estimators=5, n_jobs=2, random_state=1)"
      ]
     },
     "execution_count": 47,
     "metadata": {},
     "output_type": "execute_result"
    }
   ],
   "source": [
    "rf = RandomForestClassifier(criterion='gini',\n",
    "                                 n_estimators=5,\n",
    "                                 random_state=1,\n",
    "                                 n_jobs=2)\n",
    "rf.fit(X_train, y_train)"
   ]
  },
  {
   "cell_type": "code",
   "execution_count": 48,
   "id": "ce8a385b",
   "metadata": {},
   "outputs": [],
   "source": [
    "rf_pred = rf.predict(X_test)"
   ]
  },
  {
   "cell_type": "code",
   "execution_count": 49,
   "id": "db5e2c83",
   "metadata": {},
   "outputs": [
    {
     "name": "stdout",
     "output_type": "stream",
     "text": [
      "Accuracy: 0.9938311834038007\n"
     ]
    }
   ],
   "source": [
    "accuracy = accuracy_score(y_test, rf_pred)\n",
    "print(\"Accuracy:\", accuracy)"
   ]
  },
  {
   "cell_type": "code",
   "execution_count": 50,
   "id": "710fccb3",
   "metadata": {},
   "outputs": [
    {
     "name": "stdout",
     "output_type": "stream",
     "text": [
      "Precision: 0.6824395373291272\n"
     ]
    }
   ],
   "source": [
    "precision = precision_score(y_test, rf_pred)\n",
    "print(\"Precision:\", precision)"
   ]
  },
  {
   "cell_type": "code",
   "execution_count": 51,
   "id": "d335d66b",
   "metadata": {},
   "outputs": [],
   "source": [
    "# Tree Visualisation\n",
    "from sklearn.tree import export_graphviz\n",
    "from sklearn.model_selection import RandomizedSearchCV\n",
    "from IPython.display import Image\n",
    "from scipy.stats import randint\n",
    "import graphviz"
   ]
  },
  {
   "cell_type": "code",
   "execution_count": 109,
   "id": "277581af",
   "metadata": {},
   "outputs": [
    {
     "data": {
      "text/plain": [
       "RandomizedSearchCV(cv=5, estimator=RandomForestClassifier(), n_iter=5,\n",
       "                   n_jobs=-1,\n",
       "                   param_distributions={'max_depth': <scipy.stats._distn_infrastructure.rv_frozen object at 0x7fc7ceca5580>,\n",
       "                                        'n_estimators': <scipy.stats._distn_infrastructure.rv_frozen object at 0x7fc7cec942b0>},\n",
       "                   scoring='roc_auc')"
      ]
     },
     "execution_count": 109,
     "metadata": {},
     "output_type": "execute_result"
    }
   ],
   "source": [
    "param_dist = {'n_estimators': randint(5,10),\n",
    "              'max_depth': randint(1,20,2)}\n",
    "\n",
    "# Create a random forest classifier\n",
    "rf = RandomForestClassifier()\n",
    "\n",
    "# Use random search to find the best hyperparameters\n",
    "rand_search = RandomizedSearchCV(rf, \n",
    "                                 scoring = 'roc_auc',\n",
    "                                 n_jobs = -1,\n",
    "                                 param_distributions = param_dist, \n",
    "                                 n_iter=5, \n",
    "                                 cv=5)\n",
    "\n",
    "# Fit the random search object to the data\n",
    "rand_search.fit(X_train, y_train)"
   ]
  },
  {
   "cell_type": "code",
   "execution_count": 110,
   "id": "a3571140",
   "metadata": {},
   "outputs": [
    {
     "name": "stdout",
     "output_type": "stream",
     "text": [
      "Best hyperparameters: {'max_depth': 15, 'n_estimators': 8}\n"
     ]
    }
   ],
   "source": [
    "# Create a variable for the best model\n",
    "best_n_estimator = rand_search.best_estimator_.n_estimators\n",
    "\n",
    "best_max_depth = rand_search.best_estimator_.max_depth\n",
    "\n",
    "# Print the best hyperparameters\n",
    "print('Best hyperparameters:',  rand_search.best_params_)"
   ]
  },
  {
   "cell_type": "code",
   "execution_count": 112,
   "id": "357ac7bc",
   "metadata": {},
   "outputs": [],
   "source": [
    "rf = RandomForestClassifier(criterion = 'gini', n_estimators = best_n_estimator , max_depth = best_max_depth)"
   ]
  },
  {
   "cell_type": "code",
   "execution_count": 113,
   "id": "767dea7a",
   "metadata": {},
   "outputs": [
    {
     "data": {
      "text/plain": [
       "RandomForestClassifier(max_depth=15, n_estimators=8)"
      ]
     },
     "execution_count": 113,
     "metadata": {},
     "output_type": "execute_result"
    }
   ],
   "source": [
    "# Fit the random search object to the data\n",
    "rf.fit(X_train, y_train)"
   ]
  },
  {
   "cell_type": "code",
   "execution_count": 114,
   "id": "7abe33ee",
   "metadata": {},
   "outputs": [],
   "source": [
    "from sklearn.metrics import ConfusionMatrixDisplay\n",
    "\n",
    "# Generate predictions with the best model\n",
    "rfcv_best_pred = rf.predict(X_test)"
   ]
  },
  {
   "cell_type": "code",
   "execution_count": 115,
   "id": "5203e853",
   "metadata": {},
   "outputs": [
    {
     "name": "stdout",
     "output_type": "stream",
     "text": [
      "The precision score of the decision tree model on train set is: 0.9035407424871247\n"
     ]
    }
   ],
   "source": [
    "precision_rf = precision_score(y_test,rfcv_best_pred, average='macro')\n",
    "print('The precision score of the decision tree model on train set is:', precision_rf)"
   ]
  },
  {
   "cell_type": "code",
   "execution_count": 116,
   "id": "92e1ab82",
   "metadata": {},
   "outputs": [
    {
     "name": "stdout",
     "output_type": "stream",
     "text": [
      "The accuracy score the best decision tree model on train set is: 0.993323099848293\n"
     ]
    }
   ],
   "source": [
    "accuracy_rf = accuracy_score(y_test,rfcv_best_pred)\n",
    "print('The accuracy score the best decision tree model on train set is:',accuracy_rf)"
   ]
  },
  {
   "cell_type": "code",
   "execution_count": 117,
   "id": "f01b0edd",
   "metadata": {},
   "outputs": [
    {
     "name": "stdout",
     "output_type": "stream",
     "text": [
      "The recall score the best decision tree model on train set is: 0.5109529570866087\n"
     ]
    }
   ],
   "source": [
    "recall_rf = recall_score(y_test,rfcv_best_pred, average='macro')\n",
    "print('The recall score the best decision tree model on train set is:',recall_rf)"
   ]
  },
  {
   "cell_type": "code",
   "execution_count": 118,
   "id": "867bf750",
   "metadata": {},
   "outputs": [
    {
     "name": "stdout",
     "output_type": "stream",
     "text": [
      "The AUC score the best decision tree model on train set is: 0.5109529570866087\n"
     ]
    }
   ],
   "source": [
    "auc_rf = roc_auc_score(y_test,rfcv_best_pred, average='macro')\n",
    "print('The AUC score the best decision tree model on train set is:',auc_rf)"
   ]
  },
  {
   "cell_type": "code",
   "execution_count": 119,
   "id": "c5668bbe",
   "metadata": {},
   "outputs": [
    {
     "data": {
      "text/plain": [
       "Text(114.0, 0.5, 'True labels')"
      ]
     },
     "execution_count": 119,
     "metadata": {},
     "output_type": "execute_result"
    },
    {
     "data": {
      "image/png": "[encoded data removed]",
      "text/plain": [
       "<Figure size 1080x360 with 2 Axes>"
      ]
     },
     "metadata": {
      "needs_background": "light"
     },
     "output_type": "display_data"
    }
   ],
   "source": [
    "plt.figure(figsize=(15,5))\n",
    "sns.heatmap(confusion_matrix(y_test, rfcv_best_pred), annot=True, cmap='mako')\n",
    "plt.title('Random Forest Classifier: Confusion matrix for train set')\n",
    "plt.xlabel('Predicted labels')\n",
    "plt.ylabel('True labels')"
   ]
  },
  {
   "cell_type": "markdown",
   "id": "d0c77432",
   "metadata": {},
   "source": [
    "### K-nearest neighbors Classifier"
   ]
  },
  {
   "cell_type": "code",
   "execution_count": 60,
   "id": "84f3230b",
   "metadata": {},
   "outputs": [],
   "source": [
    "from sklearn.neighbors import KNeighborsClassifier, KNeighborsRegressor\n",
    "from sklearn.preprocessing import StandardScaler"
   ]
  },
  {
   "cell_type": "code",
   "execution_count": 61,
   "id": "bebcb10e",
   "metadata": {},
   "outputs": [],
   "source": [
    "knn_model = KNeighborsRegressor(algorithm = 'ball_tree', \n",
    "                                n_neighbors=3)"
   ]
  },
  {
   "cell_type": "code",
   "execution_count": 62,
   "id": "f81f1bfb",
   "metadata": {},
   "outputs": [],
   "source": [
    "kn = knn_model.fit(X_train, y_train)"
   ]
  },
  {
   "cell_type": "code",
   "execution_count": 63,
   "id": "ed93a821",
   "metadata": {},
   "outputs": [],
   "source": [
    "kn_pred = kn.predict(X_test)"
   ]
  },
  {
   "cell_type": "code",
   "execution_count": 64,
   "id": "b935e3b4",
   "metadata": {
    "scrolled": true
   },
   "outputs": [
    {
     "name": "stdout",
     "output_type": "stream",
     "text": [
      "Accuracy: 0.9927414070144256\n"
     ]
    }
   ],
   "source": [
    "accuracy = accuracy_score(y_test, np.round(abs(kn_pred)))\n",
    "print(\"Accuracy:\", accuracy)"
   ]
  },
  {
   "cell_type": "code",
   "execution_count": 65,
   "id": "3ff38143",
   "metadata": {},
   "outputs": [
    {
     "name": "stdout",
     "output_type": "stream",
     "text": [
      "Precision: 0.4068767908309456\n"
     ]
    }
   ],
   "source": [
    "precision = precision_score(y_test, np.round(abs(kn_pred)))\n",
    "print(\"Precision:\", precision)"
   ]
  },
  {
   "cell_type": "code",
   "execution_count": 66,
   "id": "35e9dd38",
   "metadata": {},
   "outputs": [],
   "source": [
    "from sklearn.model_selection import cross_val_score\n",
    "# Cross Validation\n",
    "k_values = [i for i in range (1,5)]\n",
    "scores = []\n",
    "\n",
    "scaler = StandardScaler()\n",
    "X = scaler.fit_transform(X)\n",
    "\n",
    "for k in k_values:\n",
    "    knn = KNeighborsClassifier(n_neighbors=k)\n",
    "    score = cross_val_score(knn, X, y, cv=5)\n",
    "    scores.append(np.mean(score))"
   ]
  },
  {
   "cell_type": "code",
   "execution_count": 67,
   "id": "94a73aee",
   "metadata": {},
   "outputs": [
    {
     "data": {
      "text/plain": [
       "Text(0, 0.5, 'Accuracy Score')"
      ]
     },
     "execution_count": 67,
     "metadata": {},
     "output_type": "execute_result"
    },
    {
     "data": {
      "image/png": "[encoded data removed]",
      "text/plain": [
       "<Figure size 432x288 with 1 Axes>"
      ]
     },
     "metadata": {
      "needs_background": "light"
     },
     "output_type": "display_data"
    }
   ],
   "source": [
    "sns.lineplot(x = k_values, y = scores, marker = 'o')\n",
    "plt.xlabel(\"K Values\")\n",
    "plt.ylabel(\"Accuracy Score\")"
   ]
  },
  {
   "cell_type": "code",
   "execution_count": 68,
   "id": "4363ec3e",
   "metadata": {},
   "outputs": [],
   "source": [
    "best_index = np.argmax(scores)\n",
    "best_k = k_values[best_index]"
   ]
  },
  {
   "cell_type": "code",
   "execution_count": 69,
   "id": "20458153",
   "metadata": {},
   "outputs": [
    {
     "data": {
      "text/plain": [
       "KNeighborsClassifier(n_neighbors=4)"
      ]
     },
     "execution_count": 69,
     "metadata": {},
     "output_type": "execute_result"
    }
   ],
   "source": [
    "knn = KNeighborsClassifier(n_neighbors=best_k)\n",
    "knn.fit(X_train, y_train)"
   ]
  },
  {
   "cell_type": "code",
   "execution_count": 70,
   "id": "46e29c77",
   "metadata": {},
   "outputs": [],
   "source": [
    "Best_k_pred = knn.predict(X_test)"
   ]
  },
  {
   "cell_type": "code",
   "execution_count": 71,
   "id": "abe63514",
   "metadata": {},
   "outputs": [
    {
     "name": "stdout",
     "output_type": "stream",
     "text": [
      "The precision score of the decision tree model on train set is: 0.7579665471123671\n"
     ]
    }
   ],
   "source": [
    "precision_kn = precision_score(y_test,Best_k_pred , average='macro')\n",
    "print('The precision score of the decision tree model on train set is:', precision_kn)"
   ]
  },
  {
   "cell_type": "code",
   "execution_count": 72,
   "id": "fb6dad0c",
   "metadata": {},
   "outputs": [
    {
     "name": "stdout",
     "output_type": "stream",
     "text": [
      "The accuracy score the best decision tree model on train set is: 0.9932333324356593\n"
     ]
    }
   ],
   "source": [
    "accuracy_kn = accuracy_score(y_test,Best_k_pred)\n",
    "print('The accuracy score the best decision tree model on train set is:',accuracy_kn)"
   ]
  },
  {
   "cell_type": "code",
   "execution_count": 73,
   "id": "092cdfab",
   "metadata": {},
   "outputs": [
    {
     "name": "stdout",
     "output_type": "stream",
     "text": [
      "The recall score the best decision tree model on train set is: 0.5214090802640272\n"
     ]
    }
   ],
   "source": [
    "recall_kn = recall_score(y_test,Best_k_pred , average='macro')\n",
    "print('The recall score the best decision tree model on train set is:',recall_kn)"
   ]
  },
  {
   "cell_type": "code",
   "execution_count": 74,
   "id": "a3490c73",
   "metadata": {},
   "outputs": [
    {
     "name": "stdout",
     "output_type": "stream",
     "text": [
      "The AUC score the best decision tree model on train set is: 0.5214090802640272\n"
     ]
    }
   ],
   "source": [
    "auc_kn = roc_auc_score(y_test,Best_k_pred , average='macro')\n",
    "print('The AUC score the best decision tree model on train set is:',auc_kn)"
   ]
  },
  {
   "cell_type": "code",
   "execution_count": 75,
   "id": "8e01f93b",
   "metadata": {},
   "outputs": [
    {
     "data": {
      "text/plain": [
       "Text(114.0, 0.5, 'True labels')"
      ]
     },
     "execution_count": 75,
     "metadata": {},
     "output_type": "execute_result"
    },
    {
     "data": {
      "image/png": "[encoded data removed]",
      "text/plain": [
       "<Figure size 1080x360 with 2 Axes>"
      ]
     },
     "metadata": {
      "needs_background": "light"
     },
     "output_type": "display_data"
    }
   ],
   "source": [
    "plt.figure(figsize=(15,5))\n",
    "sns.heatmap(confusion_matrix(y_test, Best_k_pred), annot=True, cmap='mako')\n",
    "plt.title('K- Nearest Neighbors : Confusion matrix for train set')\n",
    "plt.xlabel('Predicted labels')\n",
    "plt.ylabel('True labels')"
   ]
  },
  {
   "cell_type": "markdown",
   "id": "bc4abe52",
   "metadata": {},
   "source": [
    "### Gaussian Naive Bayes"
   ]
  },
  {
   "cell_type": "code",
   "execution_count": 76,
   "id": "66853f43",
   "metadata": {},
   "outputs": [],
   "source": [
    "from sklearn.naive_bayes import GaussianNB"
   ]
  },
  {
   "cell_type": "code",
   "execution_count": 77,
   "id": "2ff5c9cb",
   "metadata": {},
   "outputs": [],
   "source": [
    "gnb = GaussianNB()"
   ]
  },
  {
   "cell_type": "code",
   "execution_count": 78,
   "id": "134fec83",
   "metadata": {},
   "outputs": [
    {
     "data": {
      "text/plain": [
       "GaussianNB()"
      ]
     },
     "execution_count": 78,
     "metadata": {},
     "output_type": "execute_result"
    }
   ],
   "source": [
    "gnb.fit(X_train, y_train)"
   ]
  },
  {
   "cell_type": "code",
   "execution_count": 79,
   "id": "b40b855b",
   "metadata": {},
   "outputs": [],
   "source": [
    "gnb_pred = gnb.predict(X_test)"
   ]
  },
  {
   "cell_type": "code",
   "execution_count": 80,
   "id": "4bcfb85a",
   "metadata": {},
   "outputs": [
    {
     "name": "stdout",
     "output_type": "stream",
     "text": [
      "Accuracy: 0.02964119965170244\n"
     ]
    }
   ],
   "source": [
    "accuracy = accuracy_score(y_test, np.round(abs(gnb_pred)))\n",
    "print(\"Accuracy:\", accuracy)"
   ]
  },
  {
   "cell_type": "code",
   "execution_count": 81,
   "id": "d64fb0ee",
   "metadata": {},
   "outputs": [
    {
     "name": "stdout",
     "output_type": "stream",
     "text": [
      "Precision: 0.00682194932791302\n"
     ]
    }
   ],
   "source": [
    "precision = precision_score(y_test, np.round(abs(gnb_pred)))\n",
    "print(\"Precision:\", precision)"
   ]
  },
  {
   "cell_type": "code",
   "execution_count": 82,
   "id": "38beeef7",
   "metadata": {},
   "outputs": [],
   "source": [
    "from sklearn.model_selection import KFold, cross_val_predict"
   ]
  },
  {
   "cell_type": "code",
   "execution_count": 83,
   "id": "2b724400",
   "metadata": {},
   "outputs": [],
   "source": [
    "k_folds = 5"
   ]
  },
  {
   "cell_type": "code",
   "execution_count": 84,
   "id": "d800c82f",
   "metadata": {},
   "outputs": [],
   "source": [
    "kf = KFold(n_splits=k_folds, shuffle=True, random_state=42)"
   ]
  },
  {
   "cell_type": "code",
   "execution_count": 85,
   "id": "1cacd6ec",
   "metadata": {},
   "outputs": [],
   "source": [
    "gnb_best_pred = cross_val_predict(gnb,X_test, y_test, cv=kf)"
   ]
  },
  {
   "cell_type": "code",
   "execution_count": 86,
   "id": "a99a2d0d",
   "metadata": {},
   "outputs": [
    {
     "name": "stdout",
     "output_type": "stream",
     "text": [
      "The precision score of the decision tree model on train set is: 0.5012356285904382\n"
     ]
    }
   ],
   "source": [
    "precision_gnb = precision_score(y_test,gnb_best_pred , average='macro')\n",
    "print('The precision score of the decision tree model on train set is:', precision_gnb)"
   ]
  },
  {
   "cell_type": "code",
   "execution_count": 87,
   "id": "b656d2ed",
   "metadata": {},
   "outputs": [
    {
     "name": "stdout",
     "output_type": "stream",
     "text": [
      "The accuracy score the best decision tree model on train set is: 0.028756092963132522\n"
     ]
    }
   ],
   "source": [
    "accuracy_gnb = accuracy_score(y_test,gnb_best_pred)\n",
    "print('The accuracy score the best decision tree model on train set is:',accuracy_gnb)"
   ]
  },
  {
   "cell_type": "code",
   "execution_count": 88,
   "id": "b232ca5a",
   "metadata": {},
   "outputs": [
    {
     "name": "stdout",
     "output_type": "stream",
     "text": [
      "The recall score the best decision tree model on train set is: 0.503968857056106\n"
     ]
    }
   ],
   "source": [
    "recall_gnb = recall_score(y_test,gnb_best_pred, average='macro')\n",
    "print('The recall score the best decision tree model on train set is:',recall_gnb)"
   ]
  },
  {
   "cell_type": "code",
   "execution_count": 89,
   "id": "375f6925",
   "metadata": {},
   "outputs": [
    {
     "name": "stdout",
     "output_type": "stream",
     "text": [
      "The AUC score the best decision tree model on train set is: 0.503968857056106\n"
     ]
    }
   ],
   "source": [
    "auc_gnb = roc_auc_score(y_test,gnb_best_pred, average='macro')\n",
    "print('The AUC score the best decision tree model on train set is:',auc_gnb)"
   ]
  },
  {
   "cell_type": "code",
   "execution_count": 90,
   "id": "82e7745c",
   "metadata": {},
   "outputs": [
    {
     "data": {
      "text/plain": [
       "Text(114.0, 0.5, 'True labels')"
      ]
     },
     "execution_count": 90,
     "metadata": {},
     "output_type": "execute_result"
    },
    {
     "data": {
      "image/png": "[encoded data removed]",
      "text/plain": [
       "<Figure size 1080x360 with 2 Axes>"
      ]
     },
     "metadata": {
      "needs_background": "light"
     },
     "output_type": "display_data"
    }
   ],
   "source": [
    "plt.figure(figsize=(15,5))\n",
    "sns.heatmap(confusion_matrix(y_test,gnb_best_pred), annot=True, cmap='mako')\n",
    "plt.title('Gaussian Naive Bayes: Confusion matrix for train set')\n",
    "plt.xlabel('Predicted labels')\n",
    "plt.ylabel('True labels')"
   ]
  },
  {
   "cell_type": "markdown",
   "id": "332c9989",
   "metadata": {},
   "source": [
    "### XGBoost"
   ]
  },
  {
   "cell_type": "code",
   "execution_count": 91,
   "id": "79d9af65",
   "metadata": {},
   "outputs": [],
   "source": [
    "from sklearn.metrics import mean_squared_error\n",
    "import xgboost as xgb"
   ]
  },
  {
   "cell_type": "code",
   "execution_count": 92,
   "id": "ec3aa903",
   "metadata": {},
   "outputs": [],
   "source": [
    "dtrain= xgb.DMatrix(X_train, y_train, enable_categorical=True)\n",
    "dtest= xgb.DMatrix(X_test, label=y_test)"
   ]
  },
  {
   "cell_type": "code",
   "execution_count": 93,
   "id": "d717eda5",
   "metadata": {},
   "outputs": [],
   "source": [
    "params = {\n",
    "    'objective': 'binary:logistic', \n",
    "    'eval_metric': 'logloss',       \n",
    "    'eta': 0.1,                      # Learning rate\n",
    "    'max_depth': 5,                  # Maximum depth of a tree\n",
    "    'subsample': 0.8,                # Subsample ratio of the training instances\n",
    "    'colsample_bytree': 0.8,         # Subsample ratio of features when constructing each tree\n",
    "    'seed': 42                       # Random seed for reproducibility\n",
    "}"
   ]
  },
  {
   "cell_type": "code",
   "execution_count": 94,
   "id": "f5db51b5",
   "metadata": {},
   "outputs": [],
   "source": [
    "num_round = 10  # Number of boosting rounds (trees)\n",
    "\n",
    "# Train the model\n",
    "model = xgb.train(params, dtrain, num_round)"
   ]
  },
  {
   "cell_type": "code",
   "execution_count": 95,
   "id": "f0e3b52b",
   "metadata": {},
   "outputs": [],
   "source": [
    "# Predict on the test set\n",
    "xgb_pred = model.predict(dtest)\n",
    "\n",
    "# If it's a classification problem, convert probabilities to classes\n",
    "# (0.5 is a commonly used threshold)\n",
    "y_pred_class = [1 if prob > 0.5 else 0 for prob in xgb_pred]"
   ]
  },
  {
   "cell_type": "code",
   "execution_count": 96,
   "id": "bbe4abb3",
   "metadata": {},
   "outputs": [
    {
     "name": "stdout",
     "output_type": "stream",
     "text": [
      "The precision score of the decision tree model on train set is: 0.49660409878006084\n"
     ]
    }
   ],
   "source": [
    "precision_xgb = precision_score(y_test,y_pred_class , average='macro')\n",
    "print('The precision score of the decision tree model on train set is:', precision_xgb)"
   ]
  },
  {
   "cell_type": "code",
   "execution_count": 97,
   "id": "16d9c594",
   "metadata": {},
   "outputs": [
    {
     "name": "stdout",
     "output_type": "stream",
     "text": [
      "The accuracy score the best decision tree model on train set is: 0.9932081975601217\n"
     ]
    }
   ],
   "source": [
    "accuracy_xgb = accuracy_score(y_test,y_pred_class)\n",
    "print('The accuracy score the best decision tree model on train set is:',accuracy_xgb)"
   ]
  },
  {
   "cell_type": "code",
   "execution_count": 98,
   "id": "eea7eaf0",
   "metadata": {},
   "outputs": [
    {
     "name": "stdout",
     "output_type": "stream",
     "text": [
      "The recall score the best decision tree model on train set is: 0.5\n"
     ]
    }
   ],
   "source": [
    "recall_xgb = recall_score(y_test,y_pred_class, average='macro')\n",
    "print('The recall score the best decision tree model on train set is:',recall_xgb)"
   ]
  },
  {
   "cell_type": "code",
   "execution_count": 99,
   "id": "e0e1a1d3",
   "metadata": {},
   "outputs": [
    {
     "name": "stdout",
     "output_type": "stream",
     "text": [
      "The AUC score the best decision tree model on train set is: 0.5\n"
     ]
    }
   ],
   "source": [
    "auc_xgb = roc_auc_score(y_test,y_pred_class, average='macro')\n",
    "print('The AUC score the best decision tree model on train set is:',auc_xgb)"
   ]
  },
  {
   "cell_type": "code",
   "execution_count": 100,
   "id": "f952726b",
   "metadata": {},
   "outputs": [
    {
     "data": {
      "text/plain": [
       "Text(114.0, 0.5, 'True labels')"
      ]
     },
     "execution_count": 100,
     "metadata": {},
     "output_type": "execute_result"
    },
    {
     "data": {
      "image/png": "[encoded data removed]",
      "text/plain": [
       "<Figure size 1080x360 with 2 Axes>"
      ]
     },
     "metadata": {
      "needs_background": "light"
     },
     "output_type": "display_data"
    }
   ],
   "source": [
    "plt.figure(figsize=(15,5))\n",
    "sns.heatmap(confusion_matrix(y_test,y_pred_class), annot=True, cmap='mako')\n",
    "plt.title('XgBoost: Confusion matrix for train set')\n",
    "plt.xlabel('Predicted labels')\n",
    "plt.ylabel('True labels')"
   ]
  },
  {
   "cell_type": "code",
   "execution_count": 101,
   "id": "bdad8b0a",
   "metadata": {},
   "outputs": [],
   "source": [
    "### Evaluation"
   ]
  },
  {
   "cell_type": "code",
   "execution_count": 120,
   "id": "5daac52f",
   "metadata": {},
   "outputs": [
    {
     "data": {
      "text/html": [
       "<div>\n",
       "<style scoped>\n",
       "    .dataframe tbody tr th:only-of-type {\n",
       "        vertical-align: middle;\n",
       "    }\n",
       "\n",
       "    .dataframe tbody tr th {\n",
       "        vertical-align: top;\n",
       "    }\n",
       "\n",
       "    .dataframe thead th {\n",
       "        text-align: right;\n",
       "    }\n",
       "</style>\n",
       "<table border=\"1\" class=\"dataframe\">\n",
       "  <thead>\n",
       "    <tr style=\"text-align: right;\">\n",
       "      <th></th>\n",
       "      <th>Accuracy</th>\n",
       "      <th>Precision</th>\n",
       "      <th>Recall</th>\n",
       "      <th>AUC-ROC</th>\n",
       "    </tr>\n",
       "  </thead>\n",
       "  <tbody>\n",
       "    <tr>\n",
       "      <th>Logistic Regression Classifier</th>\n",
       "      <td>99.32</td>\n",
       "      <td>49.66</td>\n",
       "      <td>50.00</td>\n",
       "      <td>50.00</td>\n",
       "    </tr>\n",
       "    <tr>\n",
       "      <th>Decision Tree Classifier</th>\n",
       "      <td>80.42</td>\n",
       "      <td>51.33</td>\n",
       "      <td>81.46</td>\n",
       "      <td>81.46</td>\n",
       "    </tr>\n",
       "    <tr>\n",
       "      <th>Random Forest Classifier</th>\n",
       "      <td>99.33</td>\n",
       "      <td>90.35</td>\n",
       "      <td>51.10</td>\n",
       "      <td>51.10</td>\n",
       "    </tr>\n",
       "    <tr>\n",
       "      <th>K-Nearest Classifer</th>\n",
       "      <td>99.32</td>\n",
       "      <td>75.80</td>\n",
       "      <td>52.14</td>\n",
       "      <td>52.14</td>\n",
       "    </tr>\n",
       "    <tr>\n",
       "      <th>Gaussian Naïve Bayes</th>\n",
       "      <td>2.88</td>\n",
       "      <td>50.12</td>\n",
       "      <td>50.40</td>\n",
       "      <td>50.40</td>\n",
       "    </tr>\n",
       "    <tr>\n",
       "      <th>XGBoost Classifiers</th>\n",
       "      <td>99.32</td>\n",
       "      <td>49.66</td>\n",
       "      <td>50.00</td>\n",
       "      <td>50.00</td>\n",
       "    </tr>\n",
       "  </tbody>\n",
       "</table>\n",
       "</div>"
      ],
      "text/plain": [
       "                                Accuracy  Precision  Recall  AUC-ROC\n",
       "Logistic Regression Classifier     99.32      49.66   50.00    50.00\n",
       "Decision Tree Classifier           80.42      51.33   81.46    81.46\n",
       "Random Forest Classifier           99.33      90.35   51.10    51.10\n",
       "K-Nearest Classifer                99.32      75.80   52.14    52.14\n",
       "Gaussian Naïve Bayes                2.88      50.12   50.40    50.40\n",
       "XGBoost Classifiers                99.32      49.66   50.00    50.00"
      ]
     },
     "execution_count": 120,
     "metadata": {},
     "output_type": "execute_result"
    }
   ],
   "source": [
    "columns = ['Accuracy', 'Precision', 'Recall', 'AUC-ROC']\n",
    "algorithms = [\"Logistic Regression Classifier\", \"Decision Tree Classifier\", \"Random Forest Classifier\", \n",
    "              \"K-Nearest Classifer\", \"Gaussian Naïve Bayes\", \"XGBoost Classifiers\"]\n",
    "data = [[round(accuracy_lr*100,2),round(precision_lr*100,2), round(recall_lr*100,2),round(auc_lr*100,2)], \n",
    "        [round(accuracy_dt*100,2),round(precision_dt*100,2), round(recall_dt*100,2),round(auc_dt*100,2)], \n",
    "        [round(accuracy_rf*100,2),round(precision_rf*100,2), round(recall_rf*100,2),round(auc_rf*100,2)],\n",
    "        [round(accuracy_kn*100,2),round(precision_kn*100,2), round(recall_kn*100,2),round(auc_kn*100,2)], \n",
    "        [round(accuracy_gnb*100,2),round(precision_gnb*100,2),round(recall_gnb*100,2),round(auc_gnb*100,2)], \n",
    "        [round(accuracy_xgb*100,2),round(precision_xgb*100,2),round(recall_xgb*100,2),round(auc_xgb*100,2)]\n",
    "       ]\n",
    "\n",
    "df_evaluation = pd.DataFrame(columns= columns, index= algorithms, data= data)\n",
    "df_evaluation"
   ]
  },
  {
   "cell_type": "code",
   "execution_count": null,
   "id": "d10619d8",
   "metadata": {},
   "outputs": [],
   "source": []
  }
 ],
 "metadata": {
  "kernelspec": {
   "display_name": "Python 3 (ipykernel)",
   "language": "python",
   "name": "python3"
  },
  "language_info": {
   "codemirror_mode": {
    "name": "ipython",
    "version": 3
   },
   "file_extension": ".py",
   "mimetype": "text/x-python",
   "name": "python",
   "nbconvert_exporter": "python",
   "pygments_lexer": "ipython3",
   "version": "3.8.5"
  }
 },
 "nbformat": 4,
 "nbformat_minor": 5
}
